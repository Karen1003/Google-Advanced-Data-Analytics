{
 "cells": [
  {
   "cell_type": "markdown",
   "metadata": {
    "id": "DtNBZFHO3M7n"
   },
   "source": [
    "# **TikTok Project**\n",
    "**Course 3 - Go Beyond the Numbers: Translate Data into Insights**"
   ]
  },
  {
   "cell_type": "markdown",
   "metadata": {
    "id": "ASDNhWAxE-r3"
   },
   "source": [
    "Your TikTok data team is still in the early stages of their latest project. So far, you’ve completed a project proposal and used Python to inspect and organize the TikTok dataset.\n",
    "\n",
    "Orion Rainier, a Data Scientist at TikTok, is pleased with the work you have already completed and is requesting your assistance with some Exploratory Data Analysis (EDA) and data visualization. The management team asked to see a Python notebook showing data structuring and cleaning, as well as any matplotlib/seaborn visualizations plotted to help us understand the data. At the very least, include a graph comparing claim counts to opinion counts, as well as boxplots of the most important variables (like “video duration,” “video like count,” “video comment count,” and “video view count”) to check for outliers. Also, include a breakdown of “author ban status” counts.\n",
    "\n",
    "Additionally, the management team has recently asked all EDA to include Tableau visualizations. Tableau visualizations are particularly helpful in status reports to the client and board members. For this data, create a Tableau dashboard showing a simple claims versus opinions count, as well as stacked bar charts of claims versus opinions for variables like video view counts, video like counts, video share counts, and video download counts. Make sure it is easy to understand to someone who isn’t data savvy, and remember that the assistant director is a person with visual impairments.\n",
    "\n",
    "You also notice a follow-up email from the Data Science Lead, Willow Jaffey. Willow suggests including an executive summary of your analysis to share with teammates.\n",
    "\n",
    "A notebook was structured and prepared to help you in this project. Please complete the following questions."
   ]
  },
  {
   "cell_type": "markdown",
   "metadata": {
    "id": "rgSbVJvomcVa"
   },
   "source": [
    "# **Course 3 End-of-course project: Exploratory data analysis**\n",
    "\n",
    "In this activity, you will examine data provided and prepare it for analysis. You will also design a professional data visualization that tells a story, and will help data-driven decisions for business needs.\n",
    "\n",
    "Please note that the Tableau visualization activity is optional, and will not affect your completion of the course. Completing the Tableau activity will help you practice planning out and plotting a data visualization based on a specific business need. The structure of this activity is designed to emulate the proposals you will likely be assigned in your career as a data professional. Completing this activity will help prepare you for those career moments.\n",
    "<br/>\n",
    "\n",
    "**The purpose** of this project is to conduct exploratory data analysis on a provided data set. Your mission is to continue the investigation you began in C2 and perform further EDA on this data with the aim of learning more about the variables. Of particular interest is information related to what distinguishes claim videos from opinion videos.\n",
    "\n",
    "**The goal** is to explore the dataset and create visualizations.\n",
    "<br/>\n",
    "*This activity has 4 parts:*\n",
    "\n",
    "**Part 1:** Imports, links, and loading\n",
    "\n",
    "**Part 2:** Data Exploration\n",
    "*   Data cleaning\n",
    "\n",
    "\n",
    "**Part 3:** Build visualizations\n",
    "\n",
    "**Part 4:** Evaluate and share results"
   ]
  },
  {
   "cell_type": "markdown",
   "metadata": {
    "id": "pI2gfRn9Fs8-"
   },
   "source": [
    "Follow the instructions and answer the question below to complete the activity. Then, you will complete an executive summary using the questions listed on the PACE Strategy Document.\n",
    "\n",
    "Be sure to complete this activity before moving on. The next course item will provide you with a completed exemplar to compare to your own work."
   ]
  },
  {
   "cell_type": "markdown",
   "metadata": {
    "id": "jPs4VVaxFpd-"
   },
   "source": [
    "# **Visualize a story in Tableau and Python**"
   ]
  },
  {
   "cell_type": "markdown",
   "metadata": {
    "id": "rdR5eWbYx8GE"
   },
   "source": [
    "<img src=\"images/Pace.png\" width=\"100\" height=\"100\" align=left>\n",
    "\n",
    "# **PACE stages**"
   ]
  },
  {
   "cell_type": "markdown",
   "metadata": {
    "id": "viBVsQThegig"
   },
   "source": [
    "Throughout these project notebooks, you'll see references to the problem-solving framework PACE. The following notebook components are labeled with the respective PACE stage: Plan, Analyze, Construct, and Execute."
   ]
  },
  {
   "cell_type": "markdown",
   "metadata": {
    "id": "xKLZJUqMx8GE"
   },
   "source": [
    "<img src=\"images/Plan.png\" width=\"100\" height=\"100\" align=left>\n",
    "\n",
    "\n",
    "## **PACE: Plan**\n",
    "\n",
    "Consider the questions in your PACE Strategy Document and those below where applicable to craft your response:\n",
    "1. Identify any outliers:\n",
    "\n",
    "\n",
    "*   What methods are best for identifying outliers?\n",
    "*   How do you make the decision to keep or exclude outliers from any future models?\n",
    "\n"
   ]
  },
  {
   "cell_type": "markdown",
   "metadata": {
    "id": "n2PzLjWUO6mC"
   },
   "source": [
    "*  Use numpy function `mean()` and `median()` to check the range of the dataset.\n",
    "*  Create a boxplot can clearly visualize the outlier\n",
    "*  There are three ways to deal with outliers\n",
    "    *  Delete: If there's no way to check how to reassign the correct data to the outliers, then you can delete them from the dataset.\n",
    "    *  Reassign: Contact the stakeholders or organization which is responsible of these dataset and get the correct data or the way to calculate data based on pther related data.\n",
    "    * Keep: If the dataset is small and it's only used for EDA but not to build machine learning models, then you can just keep it."
   ]
  },
  {
   "cell_type": "markdown",
   "metadata": {
    "id": "SKur6gTPRcvy"
   },
   "source": [
    "### **Task 1. Imports, links, and loading**\n",
    "Go to Tableau Public\n",
    "The following link will help you complete this activity. Keep Tableau Public open as you proceed to the next steps.\n",
    "\n",
    "Link to supporting materials:\n",
    "Public Tableau: https://public.tableau.com/s/. Note that the TikTok dataset can be downloaded directly from this notebook by going to \"Lab Files\" in the menu bar at the top of the page, clicking into the \"/home/jovyan/work\" folder, selecting `tiktok_dataset.csv`, and clicking \"Download\" above the list of files. \n",
    "\n",
    "For EDA of the data, import the packages that would be most helpful, such as `pandas`, `numpy`, `matplotlib.pyplot`, and `seaborn`.\n"
   ]
  },
  {
   "cell_type": "code",
   "execution_count": 1,
   "metadata": {
    "id": "EO8vKZI8x8GF"
   },
   "outputs": [],
   "source": [
    "# Import packages for data manipulation\n",
    "### YOUR CODE HERE ###\n",
    "import pandas as pd\n",
    "import numpy as np\n",
    "\n",
    "# Import packages for data visualization\n",
    "### YOUR CODE HERE ###\n",
    "import matplotlib.pyplot as plt\n",
    "import seaborn as sns"
   ]
  },
  {
   "cell_type": "markdown",
   "metadata": {
    "id": "JRf06KQ-uK7i"
   },
   "source": [
    "Then, load the dataset into a dataframe. Read in the data and store it as a dataframe object.\n",
    "\n",
    "**Note:** As shown in this cell, the dataset has been automatically loaded in for you. You do not need to download the .csv file, or provide more code, in order to access the dataset and proceed with this lab. Please continue with this activity by completing the following instructions.\n"
   ]
  },
  {
   "cell_type": "code",
   "execution_count": 2,
   "metadata": {
    "id": "w7XSDxoqyF9D"
   },
   "outputs": [],
   "source": [
    "# Load dataset into dataframe\n",
    "data = pd.read_csv(\"tiktok_dataset.csv\")"
   ]
  },
  {
   "cell_type": "markdown",
   "metadata": {
    "id": "3mipEiyZx8GI"
   },
   "source": [
    "<img src=\"images/Analyze.png\" width=\"100\" height=\"100\" align=left>\n",
    "\n",
    "## **PACE: Analyze**\n",
    "\n",
    "Consider the questions in your PACE Strategy Document and those below where applicable to complete your code."
   ]
  },
  {
   "cell_type": "markdown",
   "metadata": {
    "id": "n09krlKWRw_2"
   },
   "source": [
    "### **Task 2a: Data exploration and cleaning**\n",
    "\n",
    "The first step is to assess your data. Check the Data Source page on Tableau Public to get a sense of the size, shape and makeup of the data set.\n",
    "\n",
    "Consider functions that help you understand and structure the data.\n",
    "\n",
    "*    `.head()`\n",
    "*    `.info()`\n",
    "*    `.describe()`\n",
    "*    `.groupby()`\n",
    "*    `.sort_values()`\n",
    "\n",
    "Consider the following questions as you work:\n",
    "\n",
    "What do you do about missing data (if any)?\n",
    "\n",
    "Are there data outliers?"
   ]
  },
  {
   "cell_type": "markdown",
   "metadata": {
    "id": "uk6zuv_mUU2k"
   },
   "source": [
    "Start by discovering, using `.head()`, `.size`, and `.shape`."
   ]
  },
  {
   "cell_type": "code",
   "execution_count": 3,
   "metadata": {
    "id": "cBOUo5p-tbib"
   },
   "outputs": [
    {
     "data": {
      "text/html": [
       "<div>\n",
       "<style scoped>\n",
       "    .dataframe tbody tr th:only-of-type {\n",
       "        vertical-align: middle;\n",
       "    }\n",
       "\n",
       "    .dataframe tbody tr th {\n",
       "        vertical-align: top;\n",
       "    }\n",
       "\n",
       "    .dataframe thead th {\n",
       "        text-align: right;\n",
       "    }\n",
       "</style>\n",
       "<table border=\"1\" class=\"dataframe\">\n",
       "  <thead>\n",
       "    <tr style=\"text-align: right;\">\n",
       "      <th></th>\n",
       "      <th>#</th>\n",
       "      <th>claim_status</th>\n",
       "      <th>video_id</th>\n",
       "      <th>video_duration_sec</th>\n",
       "      <th>video_transcription_text</th>\n",
       "      <th>verified_status</th>\n",
       "      <th>author_ban_status</th>\n",
       "      <th>video_view_count</th>\n",
       "      <th>video_like_count</th>\n",
       "      <th>video_share_count</th>\n",
       "      <th>video_download_count</th>\n",
       "      <th>video_comment_count</th>\n",
       "    </tr>\n",
       "  </thead>\n",
       "  <tbody>\n",
       "    <tr>\n",
       "      <th>0</th>\n",
       "      <td>1</td>\n",
       "      <td>claim</td>\n",
       "      <td>7017666017</td>\n",
       "      <td>59</td>\n",
       "      <td>someone shared with me that drone deliveries a...</td>\n",
       "      <td>not verified</td>\n",
       "      <td>under review</td>\n",
       "      <td>343296.0</td>\n",
       "      <td>19425.0</td>\n",
       "      <td>241.0</td>\n",
       "      <td>1.0</td>\n",
       "      <td>0.0</td>\n",
       "    </tr>\n",
       "    <tr>\n",
       "      <th>1</th>\n",
       "      <td>2</td>\n",
       "      <td>claim</td>\n",
       "      <td>4014381136</td>\n",
       "      <td>32</td>\n",
       "      <td>someone shared with me that there are more mic...</td>\n",
       "      <td>not verified</td>\n",
       "      <td>active</td>\n",
       "      <td>140877.0</td>\n",
       "      <td>77355.0</td>\n",
       "      <td>19034.0</td>\n",
       "      <td>1161.0</td>\n",
       "      <td>684.0</td>\n",
       "    </tr>\n",
       "    <tr>\n",
       "      <th>2</th>\n",
       "      <td>3</td>\n",
       "      <td>claim</td>\n",
       "      <td>9859838091</td>\n",
       "      <td>31</td>\n",
       "      <td>someone shared with me that american industria...</td>\n",
       "      <td>not verified</td>\n",
       "      <td>active</td>\n",
       "      <td>902185.0</td>\n",
       "      <td>97690.0</td>\n",
       "      <td>2858.0</td>\n",
       "      <td>833.0</td>\n",
       "      <td>329.0</td>\n",
       "    </tr>\n",
       "    <tr>\n",
       "      <th>3</th>\n",
       "      <td>4</td>\n",
       "      <td>claim</td>\n",
       "      <td>1866847991</td>\n",
       "      <td>25</td>\n",
       "      <td>someone shared with me that the metro of st. p...</td>\n",
       "      <td>not verified</td>\n",
       "      <td>active</td>\n",
       "      <td>437506.0</td>\n",
       "      <td>239954.0</td>\n",
       "      <td>34812.0</td>\n",
       "      <td>1234.0</td>\n",
       "      <td>584.0</td>\n",
       "    </tr>\n",
       "    <tr>\n",
       "      <th>4</th>\n",
       "      <td>5</td>\n",
       "      <td>claim</td>\n",
       "      <td>7105231098</td>\n",
       "      <td>19</td>\n",
       "      <td>someone shared with me that the number of busi...</td>\n",
       "      <td>not verified</td>\n",
       "      <td>active</td>\n",
       "      <td>56167.0</td>\n",
       "      <td>34987.0</td>\n",
       "      <td>4110.0</td>\n",
       "      <td>547.0</td>\n",
       "      <td>152.0</td>\n",
       "    </tr>\n",
       "  </tbody>\n",
       "</table>\n",
       "</div>"
      ],
      "text/plain": [
       "   # claim_status    video_id  video_duration_sec  \\\n",
       "0  1        claim  7017666017                  59   \n",
       "1  2        claim  4014381136                  32   \n",
       "2  3        claim  9859838091                  31   \n",
       "3  4        claim  1866847991                  25   \n",
       "4  5        claim  7105231098                  19   \n",
       "\n",
       "                            video_transcription_text verified_status  \\\n",
       "0  someone shared with me that drone deliveries a...    not verified   \n",
       "1  someone shared with me that there are more mic...    not verified   \n",
       "2  someone shared with me that american industria...    not verified   \n",
       "3  someone shared with me that the metro of st. p...    not verified   \n",
       "4  someone shared with me that the number of busi...    not verified   \n",
       "\n",
       "  author_ban_status  video_view_count  video_like_count  video_share_count  \\\n",
       "0      under review          343296.0           19425.0              241.0   \n",
       "1            active          140877.0           77355.0            19034.0   \n",
       "2            active          902185.0           97690.0             2858.0   \n",
       "3            active          437506.0          239954.0            34812.0   \n",
       "4            active           56167.0           34987.0             4110.0   \n",
       "\n",
       "   video_download_count  video_comment_count  \n",
       "0                   1.0                  0.0  \n",
       "1                1161.0                684.0  \n",
       "2                 833.0                329.0  \n",
       "3                1234.0                584.0  \n",
       "4                 547.0                152.0  "
      ]
     },
     "execution_count": 3,
     "metadata": {},
     "output_type": "execute_result"
    }
   ],
   "source": [
    "# Display and examine the first few rows of the dataframe\n",
    "### YOUR CODE HERE ###\n",
    "data.head()"
   ]
  },
  {
   "cell_type": "code",
   "execution_count": 4,
   "metadata": {
    "id": "GvT82D1qyF9F"
   },
   "outputs": [
    {
     "data": {
      "text/plain": [
       "232584"
      ]
     },
     "execution_count": 4,
     "metadata": {},
     "output_type": "execute_result"
    }
   ],
   "source": [
    "# Get the size of the data\n",
    "### YOUR CODE HERE ###\n",
    "data.size"
   ]
  },
  {
   "cell_type": "code",
   "execution_count": 5,
   "metadata": {
    "id": "ZMVCmsoMvCEm"
   },
   "outputs": [
    {
     "data": {
      "text/plain": [
       "(19382, 12)"
      ]
     },
     "execution_count": 5,
     "metadata": {},
     "output_type": "execute_result"
    }
   ],
   "source": [
    "# Get the shape of the data\n",
    "### YOUR CODE HERE ###\n",
    "data.shape"
   ]
  },
  {
   "cell_type": "markdown",
   "metadata": {
    "id": "psmn0VD0UWBk"
   },
   "source": [
    "Get basic information about the data, using `.info()`."
   ]
  },
  {
   "cell_type": "code",
   "execution_count": 6,
   "metadata": {
    "id": "Thlb8oiyUPwe"
   },
   "outputs": [
    {
     "name": "stdout",
     "output_type": "stream",
     "text": [
      "<class 'pandas.core.frame.DataFrame'>\n",
      "RangeIndex: 19382 entries, 0 to 19381\n",
      "Data columns (total 12 columns):\n",
      " #   Column                    Non-Null Count  Dtype  \n",
      "---  ------                    --------------  -----  \n",
      " 0   #                         19382 non-null  int64  \n",
      " 1   claim_status              19084 non-null  object \n",
      " 2   video_id                  19382 non-null  int64  \n",
      " 3   video_duration_sec        19382 non-null  int64  \n",
      " 4   video_transcription_text  19084 non-null  object \n",
      " 5   verified_status           19382 non-null  object \n",
      " 6   author_ban_status         19382 non-null  object \n",
      " 7   video_view_count          19084 non-null  float64\n",
      " 8   video_like_count          19084 non-null  float64\n",
      " 9   video_share_count         19084 non-null  float64\n",
      " 10  video_download_count      19084 non-null  float64\n",
      " 11  video_comment_count       19084 non-null  float64\n",
      "dtypes: float64(5), int64(3), object(4)\n",
      "memory usage: 1.8+ MB\n"
     ]
    }
   ],
   "source": [
    "# Get basic information about the data\n",
    "### YOUR CODE HERE ###\n",
    "data.info()"
   ]
  },
  {
   "cell_type": "markdown",
   "metadata": {
    "id": "WulP4lZ9UVgy"
   },
   "source": [
    "Generate a table of descriptive statistics, using `.describe()`."
   ]
  },
  {
   "cell_type": "code",
   "execution_count": 7,
   "metadata": {
    "id": "xMpkdNQ0UPmW"
   },
   "outputs": [
    {
     "data": {
      "text/html": [
       "<div>\n",
       "<style scoped>\n",
       "    .dataframe tbody tr th:only-of-type {\n",
       "        vertical-align: middle;\n",
       "    }\n",
       "\n",
       "    .dataframe tbody tr th {\n",
       "        vertical-align: top;\n",
       "    }\n",
       "\n",
       "    .dataframe thead th {\n",
       "        text-align: right;\n",
       "    }\n",
       "</style>\n",
       "<table border=\"1\" class=\"dataframe\">\n",
       "  <thead>\n",
       "    <tr style=\"text-align: right;\">\n",
       "      <th></th>\n",
       "      <th>#</th>\n",
       "      <th>video_id</th>\n",
       "      <th>video_duration_sec</th>\n",
       "      <th>video_view_count</th>\n",
       "      <th>video_like_count</th>\n",
       "      <th>video_share_count</th>\n",
       "      <th>video_download_count</th>\n",
       "      <th>video_comment_count</th>\n",
       "    </tr>\n",
       "  </thead>\n",
       "  <tbody>\n",
       "    <tr>\n",
       "      <th>count</th>\n",
       "      <td>19382.000000</td>\n",
       "      <td>1.938200e+04</td>\n",
       "      <td>19382.000000</td>\n",
       "      <td>19084.000000</td>\n",
       "      <td>19084.000000</td>\n",
       "      <td>19084.000000</td>\n",
       "      <td>19084.000000</td>\n",
       "      <td>19084.000000</td>\n",
       "    </tr>\n",
       "    <tr>\n",
       "      <th>mean</th>\n",
       "      <td>9691.500000</td>\n",
       "      <td>5.627454e+09</td>\n",
       "      <td>32.421732</td>\n",
       "      <td>254708.558688</td>\n",
       "      <td>84304.636030</td>\n",
       "      <td>16735.248323</td>\n",
       "      <td>1049.429627</td>\n",
       "      <td>349.312146</td>\n",
       "    </tr>\n",
       "    <tr>\n",
       "      <th>std</th>\n",
       "      <td>5595.245794</td>\n",
       "      <td>2.536440e+09</td>\n",
       "      <td>16.229967</td>\n",
       "      <td>322893.280814</td>\n",
       "      <td>133420.546814</td>\n",
       "      <td>32036.174350</td>\n",
       "      <td>2004.299894</td>\n",
       "      <td>799.638865</td>\n",
       "    </tr>\n",
       "    <tr>\n",
       "      <th>min</th>\n",
       "      <td>1.000000</td>\n",
       "      <td>1.234959e+09</td>\n",
       "      <td>5.000000</td>\n",
       "      <td>20.000000</td>\n",
       "      <td>0.000000</td>\n",
       "      <td>0.000000</td>\n",
       "      <td>0.000000</td>\n",
       "      <td>0.000000</td>\n",
       "    </tr>\n",
       "    <tr>\n",
       "      <th>25%</th>\n",
       "      <td>4846.250000</td>\n",
       "      <td>3.430417e+09</td>\n",
       "      <td>18.000000</td>\n",
       "      <td>4942.500000</td>\n",
       "      <td>810.750000</td>\n",
       "      <td>115.000000</td>\n",
       "      <td>7.000000</td>\n",
       "      <td>1.000000</td>\n",
       "    </tr>\n",
       "    <tr>\n",
       "      <th>50%</th>\n",
       "      <td>9691.500000</td>\n",
       "      <td>5.618664e+09</td>\n",
       "      <td>32.000000</td>\n",
       "      <td>9954.500000</td>\n",
       "      <td>3403.500000</td>\n",
       "      <td>717.000000</td>\n",
       "      <td>46.000000</td>\n",
       "      <td>9.000000</td>\n",
       "    </tr>\n",
       "    <tr>\n",
       "      <th>75%</th>\n",
       "      <td>14536.750000</td>\n",
       "      <td>7.843960e+09</td>\n",
       "      <td>47.000000</td>\n",
       "      <td>504327.000000</td>\n",
       "      <td>125020.000000</td>\n",
       "      <td>18222.000000</td>\n",
       "      <td>1156.250000</td>\n",
       "      <td>292.000000</td>\n",
       "    </tr>\n",
       "    <tr>\n",
       "      <th>max</th>\n",
       "      <td>19382.000000</td>\n",
       "      <td>9.999873e+09</td>\n",
       "      <td>60.000000</td>\n",
       "      <td>999817.000000</td>\n",
       "      <td>657830.000000</td>\n",
       "      <td>256130.000000</td>\n",
       "      <td>14994.000000</td>\n",
       "      <td>9599.000000</td>\n",
       "    </tr>\n",
       "  </tbody>\n",
       "</table>\n",
       "</div>"
      ],
      "text/plain": [
       "                  #      video_id  video_duration_sec  video_view_count  \\\n",
       "count  19382.000000  1.938200e+04        19382.000000      19084.000000   \n",
       "mean    9691.500000  5.627454e+09           32.421732     254708.558688   \n",
       "std     5595.245794  2.536440e+09           16.229967     322893.280814   \n",
       "min        1.000000  1.234959e+09            5.000000         20.000000   \n",
       "25%     4846.250000  3.430417e+09           18.000000       4942.500000   \n",
       "50%     9691.500000  5.618664e+09           32.000000       9954.500000   \n",
       "75%    14536.750000  7.843960e+09           47.000000     504327.000000   \n",
       "max    19382.000000  9.999873e+09           60.000000     999817.000000   \n",
       "\n",
       "       video_like_count  video_share_count  video_download_count  \\\n",
       "count      19084.000000       19084.000000          19084.000000   \n",
       "mean       84304.636030       16735.248323           1049.429627   \n",
       "std       133420.546814       32036.174350           2004.299894   \n",
       "min            0.000000           0.000000              0.000000   \n",
       "25%          810.750000         115.000000              7.000000   \n",
       "50%         3403.500000         717.000000             46.000000   \n",
       "75%       125020.000000       18222.000000           1156.250000   \n",
       "max       657830.000000      256130.000000          14994.000000   \n",
       "\n",
       "       video_comment_count  \n",
       "count         19084.000000  \n",
       "mean            349.312146  \n",
       "std             799.638865  \n",
       "min               0.000000  \n",
       "25%               1.000000  \n",
       "50%               9.000000  \n",
       "75%             292.000000  \n",
       "max            9599.000000  "
      ]
     },
     "execution_count": 7,
     "metadata": {},
     "output_type": "execute_result"
    }
   ],
   "source": [
    "# Generate a table of descriptive statistics\n",
    "### YOUR CODE HERE ###\n",
    "data.describe()"
   ]
  },
  {
   "cell_type": "markdown",
   "metadata": {
    "id": "vCGi3U9nw4Er"
   },
   "source": [
    "### **Task 2b. Assess data types**"
   ]
  },
  {
   "cell_type": "markdown",
   "metadata": {
    "id": "aNBRa33TR_Is"
   },
   "source": [
    "In Tableau, staying on the data source page, double check the data types of the columns in the dataset. Refer to the dimensions and measures in Tableau.\n"
   ]
  },
  {
   "cell_type": "markdown",
   "metadata": {
    "id": "WtpiC1JvHRtS"
   },
   "source": [
    "Review the instructions linked in the previous Activity document to create the required Tableau visualization."
   ]
  },
  {
   "cell_type": "markdown",
   "metadata": {
    "id": "sPlm615Ywifi"
   },
   "source": [
    "### **Task 2c. Select visualization type(s)**"
   ]
  },
  {
   "cell_type": "markdown",
   "metadata": {
    "id": "2YdC51QBSG2v"
   },
   "source": [
    "Select data visualization types that will help you understand and explain the data.\n",
    "\n",
    "Now that you know which data columns you’ll use, it is time to decide which data visualization makes the most sense for EDA of the TikTok dataset. What type of data visualization(s) would be most helpful? Consider the distribution of the data.\n",
    "\n",
    "* Line graph\n",
    "* Bar chart\n",
    "* Box plot\n",
    "* Histogram\n",
    "* Heat map\n",
    "* Scatter plot\n",
    "* A geographic map\n"
   ]
  },
  {
   "cell_type": "markdown",
   "metadata": {
    "id": "7X7AvXvzLs5m"
   },
   "source": [
    "In EDA process, box plot and histogram can be used to check the distribution of the dataset."
   ]
  },
  {
   "cell_type": "markdown",
   "metadata": {
    "id": "f0sHpfkhx8GM"
   },
   "source": [
    "<img src=\"images/Construct.png\" width=\"100\" height=\"100\" align=left>\n",
    "\n",
    "## **PACE: Construct**\n",
    "\n",
    "Consider the questions in your PACE Strategy Document to reflect on the Construct stage."
   ]
  },
  {
   "cell_type": "markdown",
   "metadata": {
    "id": "BYWkZ4i3wgv4"
   },
   "source": [
    "### **Task 3. Build visualizations**\n",
    "\n",
    "Now that you have assessed your data, it’s time to plot your visualization(s)."
   ]
  },
  {
   "cell_type": "markdown",
   "metadata": {
    "id": "zxNu3SYf60OA"
   },
   "source": [
    "#### **video_duration_sec**\n",
    "\n",
    "Create a box plot to examine the spread of values in the `video_duration_sec` column."
   ]
  },
  {
   "cell_type": "code",
   "execution_count": 8,
   "metadata": {
    "id": "Ts_lcV6qUQHq"
   },
   "outputs": [
    {
     "data": {
      "text/plain": [
       "<matplotlib.axes._subplots.AxesSubplot at 0x7f5cc4731f50>"
      ]
     },
     "execution_count": 8,
     "metadata": {},
     "output_type": "execute_result"
    },
    {
     "data": {
      "image/png": "[encoded data removed]",
      "text/plain": [
       "<Figure size 360x72 with 1 Axes>"
      ]
     },
     "metadata": {
      "needs_background": "light"
     },
     "output_type": "display_data"
    }
   ],
   "source": [
    "# Create a boxplot to visualize distribution of `video_duration_sec`\n",
    "### YOUR CODE HERE ###\n",
    "plt.figure(figsize=(5,1))\n",
    "plt.title('video_duration_sec')\n",
    "sns.boxplot(data=data,x='video_duration_sec')"
   ]
  },
  {
   "cell_type": "markdown",
   "metadata": {
    "id": "Kjwc7aGi7C63"
   },
   "source": [
    "Create a histogram of the values in the `video_duration_sec` column to further explore the distribution of this variable."
   ]
  },
  {
   "cell_type": "code",
   "execution_count": 9,
   "metadata": {
    "id": "0zaJF_yU7UCp"
   },
   "outputs": [
    {
     "data": {
      "text/plain": [
       "<matplotlib.axes._subplots.AxesSubplot at 0x7f5cc46e2410>"
      ]
     },
     "execution_count": 9,
     "metadata": {},
     "output_type": "execute_result"
    },
    {
     "data": {
      "image/png": "[encoded data removed]",
      "text/plain": [
       "<Figure size 360x144 with 1 Axes>"
      ]
     },
     "metadata": {
      "needs_background": "light"
     },
     "output_type": "display_data"
    }
   ],
   "source": [
    "# Create a histogram\n",
    "### YOUR CODE HERE ###\n",
    "plt.figure(figsize=(5,2))\n",
    "plt.title('video_duration_sec')\n",
    "sns.histplot(data=data,x='video_duration_sec',bins=range(0,60,5))"
   ]
  },
  {
   "cell_type": "markdown",
   "metadata": {
    "id": "1GgGx8g87cqN"
   },
   "source": [
    "**Question:** What do you notice about the duration and distribution of the videos?\n",
    "*  The length of videos is between 5 to 60 seconds.\n",
    "*  Distribution is uniform."
   ]
  },
  {
   "cell_type": "markdown",
   "metadata": {
    "id": "QWM6LLlE7iMY"
   },
   "source": [
    "#### **video_view_count**\n",
    "\n",
    "Create a box plot to examine the spread of values in the `video_view_count` column."
   ]
  },
  {
   "cell_type": "code",
   "execution_count": 10,
   "metadata": {
    "id": "qlUccI91a4NH"
   },
   "outputs": [
    {
     "data": {
      "text/plain": [
       "<matplotlib.axes._subplots.AxesSubplot at 0x7f5cc46551d0>"
      ]
     },
     "execution_count": 10,
     "metadata": {},
     "output_type": "execute_result"
    },
    {
     "data": {
      "image/png": "[encoded data removed]",
      "text/plain": [
       "<Figure size 360x72 with 1 Axes>"
      ]
     },
     "metadata": {
      "needs_background": "light"
     },
     "output_type": "display_data"
    }
   ],
   "source": [
    "# Create a boxplot to visualize distribution of `video_view_count`\n",
    "### YOUR CODE HERE ###\n",
    "plt.figure(figsize=(5,1))\n",
    "plt.title('video_view_count')\n",
    "sns.boxplot(data=data,x='video_view_count')"
   ]
  },
  {
   "cell_type": "markdown",
   "metadata": {
    "id": "yiMaq0Mr7jg1"
   },
   "source": [
    "Create a histogram of the values in the `video_view_count` column to further explore the distribution of this variable."
   ]
  },
  {
   "cell_type": "code",
   "execution_count": 11,
   "metadata": {
    "id": "qpm2TdwB7j61"
   },
   "outputs": [
    {
     "data": {
      "text/plain": [
       "<matplotlib.axes._subplots.AxesSubplot at 0x7f5cc453a750>"
      ]
     },
     "execution_count": 11,
     "metadata": {},
     "output_type": "execute_result"
    },
    {
     "data": {
      "image/png": "[encoded data removed]",
      "text/plain": [
       "<Figure size 360x144 with 1 Axes>"
      ]
     },
     "metadata": {
      "needs_background": "light"
     },
     "output_type": "display_data"
    }
   ],
   "source": [
    "# Create a histogram\n",
    "### YOUR CODE HERE ###\n",
    "plt.figure(figsize=(5,2))\n",
    "plt.title('video_view_count')\n",
    "sns.histplot(data=data,x='video_view_count',bins=range(0,(10**6+1),10**5))"
   ]
  },
  {
   "cell_type": "markdown",
   "metadata": {
    "id": "vhoFNjHp7zg3"
   },
   "source": [
    "**Question:** What do you notice about the distribution of this variable?\n",
    "*  View counts of the videos are between 0 to 1 million.\n",
    "*  The distribution is uneven, most of the videos have view counts below 100000."
   ]
  },
  {
   "cell_type": "markdown",
   "metadata": {
    "id": "NIh6KV2X77BA"
   },
   "source": [
    "#### **video_like_count**\n",
    "\n",
    "Create a box plot to examine the spread of values in the `video_like_count` column."
   ]
  },
  {
   "cell_type": "code",
   "execution_count": 12,
   "metadata": {
    "id": "N0UVdeRUzEEF"
   },
   "outputs": [
    {
     "data": {
      "text/plain": [
       "<matplotlib.axes._subplots.AxesSubplot at 0x7f5cc44c1a50>"
      ]
     },
     "execution_count": 12,
     "metadata": {},
     "output_type": "execute_result"
    },
    {
     "data": {
      "image/png": "[encoded data removed]",
      "text/plain": [
       "<Figure size 720x72 with 1 Axes>"
      ]
     },
     "metadata": {
      "needs_background": "light"
     },
     "output_type": "display_data"
    }
   ],
   "source": [
    "# Create a boxplot to visualize distribution of `video_like_count`\n",
    "### YOUR CODE HERE ###\n",
    "plt.figure(figsize=(10,1))\n",
    "plt.title('video_like_count')\n",
    "sns.boxplot(data=data,x='video_like_count')"
   ]
  },
  {
   "cell_type": "markdown",
   "metadata": {
    "id": "-jV2GDg_78ae"
   },
   "source": [
    "Create a histogram of the values in the `video_like_count` column to further explore the distribution of this variable."
   ]
  },
  {
   "cell_type": "code",
   "execution_count": 13,
   "metadata": {
    "id": "udOrLA5b79MV"
   },
   "outputs": [
    {
     "data": {
      "text/plain": [
       "<matplotlib.axes._subplots.AxesSubplot at 0x7f5cc4426690>"
      ]
     },
     "execution_count": 13,
     "metadata": {},
     "output_type": "execute_result"
    },
    {
     "data": {
      "image/png": "[encoded data removed]",
      "text/plain": [
       "<Figure size 360x144 with 1 Axes>"
      ]
     },
     "metadata": {
      "needs_background": "light"
     },
     "output_type": "display_data"
    }
   ],
   "source": [
    "# Create a histogram\n",
    "### YOUR CODE HERE ###\n",
    "plt.figure(figsize=(5,2))\n",
    "plt.title('video_like_count')\n",
    "labels = [0] + [str(i) + 'k' for i in range(100, 701, 100)]\n",
    "plt.xticks(range(0,7*10**5+1,10**5), labels=labels)\n",
    "sns.histplot(data=data,x='video_like_count', bins=range(0,(7*10**5+1),10**5))"
   ]
  },
  {
   "cell_type": "markdown",
   "metadata": {
    "id": "8dwSFmpZ8ENG"
   },
   "source": [
    "**Question:** What do you notice about the distribution of this variable?\n",
    "*  The distribution is uneven, most of the videos have likes below 100k.\n",
    "*  There are many extreme values of video_like_count."
   ]
  },
  {
   "cell_type": "markdown",
   "metadata": {
    "id": "rJ23hEvE8HK5"
   },
   "source": [
    "#### **video_comment_count**\n",
    "\n",
    "Create a box plot to examine the spread of values in the `video_comment_count` column."
   ]
  },
  {
   "cell_type": "code",
   "execution_count": 14,
   "metadata": {
    "id": "-gE1fkGo0eG9"
   },
   "outputs": [
    {
     "data": {
      "text/plain": [
       "<matplotlib.axes._subplots.AxesSubplot at 0x7f5cc442c210>"
      ]
     },
     "execution_count": 14,
     "metadata": {},
     "output_type": "execute_result"
    },
    {
     "data": {
      "image/png": "[encoded data removed]",
      "text/plain": [
       "<Figure size 720x72 with 1 Axes>"
      ]
     },
     "metadata": {
      "needs_background": "light"
     },
     "output_type": "display_data"
    }
   ],
   "source": [
    "# Create a boxplot to visualize distribution of `video_comment_count`\n",
    "### YOUR CODE HERE ###\n",
    "plt.figure(figsize=(10,1))\n",
    "plt.title('video_comment_count')\n",
    "sns.boxplot(data=data,x='video_comment_count')"
   ]
  },
  {
   "cell_type": "markdown",
   "metadata": {
    "id": "ztXyeXEA8H0d"
   },
   "source": [
    "Create a histogram of the values in the `video_comment_count` column to further explore the distribution of this variable."
   ]
  },
  {
   "cell_type": "code",
   "execution_count": 15,
   "metadata": {
    "id": "pQsVds2G8IYx"
   },
   "outputs": [
    {
     "data": {
      "text/plain": [
       "<matplotlib.axes._subplots.AxesSubplot at 0x7f5cc4386390>"
      ]
     },
     "execution_count": 15,
     "metadata": {},
     "output_type": "execute_result"
    },
    {
     "data": {
      "image/png": "[encoded data removed]",
      "text/plain": [
       "<Figure size 360x144 with 1 Axes>"
      ]
     },
     "metadata": {
      "needs_background": "light"
     },
     "output_type": "display_data"
    }
   ],
   "source": [
    "# Create a histogram\n",
    "### YOUR CODE HERE ###\n",
    "plt.figure(figsize=(5,2))\n",
    "plt.title('video_comment_count')\n",
    "sns.histplot(data=data,x='video_comment_count', bins=range(0,3001,100))"
   ]
  },
  {
   "cell_type": "markdown",
   "metadata": {
    "id": "TXLQaXcV8It4"
   },
   "source": [
    "**Question:** What do you notice about the distribution of this variable?\n",
    "*  The distribution is very right-skewed. Most of the videos have comments lower than 100."
   ]
  },
  {
   "cell_type": "markdown",
   "metadata": {
    "id": "QnWnT6ZK83wv"
   },
   "source": [
    "#### **video_share_count**\n",
    "\n",
    "Create a box plot to examine the spread of values in the `video_share_count` column."
   ]
  },
  {
   "cell_type": "code",
   "execution_count": 16,
   "metadata": {
    "id": "VGdU83TL88gZ"
   },
   "outputs": [
    {
     "data": {
      "text/plain": [
       "<matplotlib.axes._subplots.AxesSubplot at 0x7f5cc43fba10>"
      ]
     },
     "execution_count": 16,
     "metadata": {},
     "output_type": "execute_result"
    },
    {
     "data": {
      "image/png": "[encoded data removed]",
      "text/plain": [
       "<Figure size 720x72 with 1 Axes>"
      ]
     },
     "metadata": {
      "needs_background": "light"
     },
     "output_type": "display_data"
    }
   ],
   "source": [
    "# Create a boxplot to visualize distribution of `video_share_count`\n",
    "### YOUR CODE HERE ###\n",
    "plt.figure(figsize=(10,1))\n",
    "plt.title('video_share_count')\n",
    "sns.boxplot(data=data,x='video_share_count')"
   ]
  },
  {
   "cell_type": "markdown",
   "metadata": {
    "id": "8-T74RQ8888t"
   },
   "source": [
    "*Create* a histogram of the values in the `video_share_count` column to further explore the distribution of this variable."
   ]
  },
  {
   "cell_type": "code",
   "execution_count": 17,
   "metadata": {
    "id": "_jusEWSJ89co"
   },
   "outputs": [
    {
     "data": {
      "text/plain": [
       "<matplotlib.axes._subplots.AxesSubplot at 0x7f5cc428b650>"
      ]
     },
     "execution_count": 17,
     "metadata": {},
     "output_type": "execute_result"
    },
    {
     "data": {
      "image/png": "[encoded data removed]",
      "text/plain": [
       "<Figure size 360x144 with 1 Axes>"
      ]
     },
     "metadata": {
      "needs_background": "light"
     },
     "output_type": "display_data"
    }
   ],
   "source": [
    "# Create a histogram\n",
    "### YOUR CODE HERE ###\n",
    "plt.figure(figsize=(5,2))\n",
    "plt.title('video_share_count')\n",
    "sns.histplot(data=data,x='video_share_count', bins=range(0,250001,10000))"
   ]
  },
  {
   "cell_type": "markdown",
   "metadata": {
    "id": "JWKhsOtG9Urp"
   },
   "source": [
    "**Question:** What do you notice about the distribution of this variable?\n",
    "*  The distribution is still very right-skewed. Most videos have lower than 10000 share."
   ]
  },
  {
   "cell_type": "markdown",
   "metadata": {
    "id": "ZDh2nxtC9ems"
   },
   "source": [
    "#### **video_download_count**\n",
    "\n",
    "Create a box plot to examine the spread of values in the `video_download_count` column."
   ]
  },
  {
   "cell_type": "code",
   "execution_count": 18,
   "metadata": {
    "id": "CVILyJYB9fUe"
   },
   "outputs": [
    {
     "data": {
      "text/plain": [
       "<matplotlib.axes._subplots.AxesSubplot at 0x7f5cc41ad190>"
      ]
     },
     "execution_count": 18,
     "metadata": {},
     "output_type": "execute_result"
    },
    {
     "data": {
      "image/png": "[encoded data removed]",
      "text/plain": [
       "<Figure size 720x72 with 1 Axes>"
      ]
     },
     "metadata": {
      "needs_background": "light"
     },
     "output_type": "display_data"
    }
   ],
   "source": [
    "# Create a boxplot to visualize distribution of `video_download_count`\n",
    "### YOUR CODE HERE ###\n",
    "plt.figure(figsize=(10,1))\n",
    "plt.title('video_download_count')\n",
    "sns.boxplot(data=data,x='video_download_count')"
   ]
  },
  {
   "cell_type": "markdown",
   "metadata": {
    "id": "oVAlHAVY9fvC"
   },
   "source": [
    "Create a histogram of the values in the `video_download_count` column to further explore the distribution of this variable."
   ]
  },
  {
   "cell_type": "code",
   "execution_count": 19,
   "metadata": {
    "id": "R9QBYK3g9gVu"
   },
   "outputs": [
    {
     "data": {
      "text/plain": [
       "<matplotlib.axes._subplots.AxesSubplot at 0x7f5cc4123fd0>"
      ]
     },
     "execution_count": 19,
     "metadata": {},
     "output_type": "execute_result"
    },
    {
     "data": {
      "image/png": "[encoded data removed]",
      "text/plain": [
       "<Figure size 360x144 with 1 Axes>"
      ]
     },
     "metadata": {
      "needs_background": "light"
     },
     "output_type": "display_data"
    }
   ],
   "source": [
    "# Create a histogram\n",
    "### YOUR CODE HERE ###\n",
    "plt.figure(figsize=(5,2))\n",
    "plt.title('video_download_count')\n",
    "sns.histplot(data=data,x='video_download_count', bins=range(0,14001,1000))"
   ]
  },
  {
   "cell_type": "markdown",
   "metadata": {
    "id": "MZZ_BH3Y9sZ-"
   },
   "source": [
    "**Question:** What do you notice about the distribution of this variable?\n",
    "* The distribution is still very right-skewed. Most videos have lower than 1000 times of download."
   ]
  },
  {
   "cell_type": "markdown",
   "metadata": {
    "id": "rJc1VcpN-ZRr"
   },
   "source": [
    "#### **Claim status by verification status**\n",
    "\n",
    "Now, create a histogram with four bars: one for each combination of claim status and verification status."
   ]
  },
  {
   "cell_type": "code",
   "execution_count": 20,
   "metadata": {
    "id": "eTsTPNMK-chP"
   },
   "outputs": [
    {
     "data": {
      "text/plain": [
       "<matplotlib.axes._subplots.AxesSubplot at 0x7f5cc40c47d0>"
      ]
     },
     "execution_count": 20,
     "metadata": {},
     "output_type": "execute_result"
    },
    {
     "data": {
      "image/png": "[encoded data removed]",
      "text/plain": [
       "<Figure size 432x216 with 1 Axes>"
      ]
     },
     "metadata": {
      "needs_background": "light"
     },
     "output_type": "display_data"
    }
   ],
   "source": [
    "# Create a histogram\n",
    "### YOUR CODE HERE ###\n",
    "plt.figure(figsize=(6,3))\n",
    "plt.title('combination of claim status and verification status')\n",
    "sns.histplot(data=data,x='claim_status', hue='verified_status', multiple='dodge',shrink=0.8,palette={'verified':'green', 'not verified':'red',})"
   ]
  },
  {
   "cell_type": "markdown",
   "metadata": {
    "id": "-xJqYoLE-c72"
   },
   "source": [
    "**Question:** What do you notice about the number of verified users compared to unverified? And how does that affect their likelihood to post opinions?\n",
    "*  There are fewer verified users.\n",
    "*  If he or she is verified users, he or she will more like to post opinion."
   ]
  },
  {
   "cell_type": "markdown",
   "metadata": {
    "id": "iEiA_ARk_Nxd"
   },
   "source": [
    "#### **Claim status by author ban status**\n",
    "\n",
    "The previous course used a `groupby()` statement to examine the count of each claim status for each author ban status. Now, use a histogram to communicate the same information."
   ]
  },
  {
   "cell_type": "code",
   "execution_count": 21,
   "metadata": {
    "id": "IZHdWGPx_Olx"
   },
   "outputs": [
    {
     "data": {
      "text/plain": [
       "<matplotlib.axes._subplots.AxesSubplot at 0x7f5cc40c4810>"
      ]
     },
     "execution_count": 21,
     "metadata": {},
     "output_type": "execute_result"
    },
    {
     "data": {
      "image/png": "[encoded data removed]",
      "text/plain": [
       "<Figure size 432x216 with 1 Axes>"
      ]
     },
     "metadata": {
      "needs_background": "light"
     },
     "output_type": "display_data"
    }
   ],
   "source": [
    "# Create a histogram\n",
    "### YOUR CODE HERE ###\n",
    "plt.figure(figsize=(6,3))\n",
    "plt.title('combination of claim status and author ban status')\n",
    "sns.histplot(data=data,x='claim_status', hue='author_ban_status',hue_order=['active','banned','under review'], multiple='dodge',shrink=0.8,palette={'active':'green', 'under review':'orange', 'banned':'red'})"
   ]
  },
  {
   "cell_type": "markdown",
   "metadata": {
    "id": "TfjwFMlR_RBT"
   },
   "source": [
    "**Question:** What do you notice about the number of active authors compared to banned authors for both claims and opinions?\n",
    "*  Most of the users are active users."
   ]
  },
  {
   "cell_type": "markdown",
   "metadata": {
    "id": "_uAmAERs_Z9j"
   },
   "source": [
    "#### **Median view counts by ban status**\n",
    "\n",
    "Create a bar plot with three bars: one for each author ban status. The height of each bar should correspond with the median number of views for all videos with that author ban status."
   ]
  },
  {
   "cell_type": "code",
   "execution_count": 22,
   "metadata": {
    "id": "c7xVuf5O_asQ"
   },
   "outputs": [
    {
     "data": {
      "text/plain": [
       "<matplotlib.axes._subplots.AxesSubplot at 0x7f5cc40836d0>"
      ]
     },
     "execution_count": 22,
     "metadata": {},
     "output_type": "execute_result"
    },
    {
     "data": {
      "image/png": "[encoded data removed]",
      "text/plain": [
       "<Figure size 432x216 with 1 Axes>"
      ]
     },
     "metadata": {
      "needs_background": "light"
     },
     "output_type": "display_data"
    }
   ],
   "source": [
    "# Create a bar plot\n",
    "### YOUR CODE HERE ###\n",
    "df = data.groupby(by='author_ban_status').median()['video_view_count'].reset_index()\n",
    "\n",
    "plt.figure(figsize=(6,3))\n",
    "plt.title('median view counts by ban status')\n",
    "sns.barplot(data=df,x='author_ban_status',y='video_view_count',palette={'active':'green', 'under review':'orange', 'banned':'red'})"
   ]
  },
  {
   "cell_type": "markdown",
   "metadata": {
    "id": "obw-wzm-_jca"
   },
   "source": [
    "**Question:** What do you notice about the median view counts for non-active authors compared to that of active authors? Based on that insight, what variable might be a good indicator of claim status?\n",
    "*  non-active authors have far more viwe counts than active author.\n",
    "*  non-active authors usually post claim and they have more views than active authors. As a result, video view count will be a good indicator for claim status."
   ]
  },
  {
   "cell_type": "code",
   "execution_count": 23,
   "metadata": {
    "id": "eFNVhyYQhSL0"
   },
   "outputs": [
    {
     "data": {
      "text/html": [
       "<div>\n",
       "<style scoped>\n",
       "    .dataframe tbody tr th:only-of-type {\n",
       "        vertical-align: middle;\n",
       "    }\n",
       "\n",
       "    .dataframe tbody tr th {\n",
       "        vertical-align: top;\n",
       "    }\n",
       "\n",
       "    .dataframe thead th {\n",
       "        text-align: right;\n",
       "    }\n",
       "</style>\n",
       "<table border=\"1\" class=\"dataframe\">\n",
       "  <thead>\n",
       "    <tr style=\"text-align: right;\">\n",
       "      <th></th>\n",
       "      <th>claim_status</th>\n",
       "      <th>video_view_count</th>\n",
       "    </tr>\n",
       "  </thead>\n",
       "  <tbody>\n",
       "    <tr>\n",
       "      <th>0</th>\n",
       "      <td>claim</td>\n",
       "      <td>501555.0</td>\n",
       "    </tr>\n",
       "    <tr>\n",
       "      <th>1</th>\n",
       "      <td>opinion</td>\n",
       "      <td>4953.0</td>\n",
       "    </tr>\n",
       "  </tbody>\n",
       "</table>\n",
       "</div>"
      ],
      "text/plain": [
       "  claim_status  video_view_count\n",
       "0        claim          501555.0\n",
       "1      opinion            4953.0"
      ]
     },
     "execution_count": 23,
     "metadata": {},
     "output_type": "execute_result"
    }
   ],
   "source": [
    "# Calculate the median view count for claim status.\n",
    "### YOUR CODE HERE ###\n",
    "data.groupby(by='claim_status').median()['video_view_count'].reset_index()"
   ]
  },
  {
   "cell_type": "markdown",
   "metadata": {
    "id": "2FjUxqMd_71P"
   },
   "source": [
    "#### **Total views by claim status**\n",
    "\n",
    "Create a pie graph that depicts the proportions of total views for claim videos and total views for opinion videos."
   ]
  },
  {
   "cell_type": "code",
   "execution_count": 24,
   "metadata": {
    "id": "aR0WS23aAD6J"
   },
   "outputs": [
    {
     "data": {
      "text/plain": [
       "Text(0.5, 1.0, 'Total views by claim status')"
      ]
     },
     "execution_count": 24,
     "metadata": {},
     "output_type": "execute_result"
    },
    {
     "data": {
      "image/png": "[encoded data removed]",
      "text/plain": [
       "<Figure size 216x216 with 1 Axes>"
      ]
     },
     "metadata": {},
     "output_type": "display_data"
    }
   ],
   "source": [
    "# Create a pie graph\n",
    "### YOUR CODE HERE ###\n",
    "plt.figure(figsize=(3,3))\n",
    "plt.pie(data.groupby(by='claim_status').sum()['video_view_count'],labels=['claim','opinion'])\n",
    "plt.title('Total views by claim status')"
   ]
  },
  {
   "cell_type": "markdown",
   "metadata": {
    "id": "_NYxRNBjAMHv"
   },
   "source": [
    "**Question:** What do you notice about the overall view count for claim status?\n",
    "* videos of claim status have higher overall view count."
   ]
  },
  {
   "cell_type": "markdown",
   "metadata": {
    "id": "H-rVzm6MAcuc"
   },
   "source": [
    "### **Task 4. Determine outliers**\n",
    "\n",
    "When building predictive models, the presence of outliers can be problematic. For example, if you were trying to predict the view count of a particular video, videos with extremely high view counts might introduce bias to a model. Also, some outliers might indicate problems with how data was captured or recorded.\n",
    "\n",
    "The ultimate objective of the TikTok project is to build a model that predicts whether a video is a claim or opinion. The analysis you've performed indicates that a video's engagement level is strongly correlated with its claim status. There's no reason to believe that any of the values in the TikTok data are erroneously captured, and they align with expectation of how social media works: a very small proportion of videos get super high engagement levels. That's the nature of viral content.\n",
    "\n",
    "Nonetheless, it's good practice to get a sense of just how many of your data points could be considered outliers. The definition of an outlier can change based on the details of your project, and it helps to have domain expertise to decide a threshold. You've learned that a common way to determine outliers in a normal distribution is to calculate the interquartile range (IQR) and set a threshold that is 1.5 * IQR above the 3rd quartile.\n",
    "\n",
    "In this TikTok dataset, the values for the count variables are not normally distributed. They are heavily skewed to the right. One way of modifying the outlier threshold is by calculating the **median** value for each variable and then adding 1.5 * IQR. This results in a threshold that is, in this case, much lower than it would be if you used the 3rd quartile.\n",
    "\n",
    "Write a for loop that iterates over the column names of each count variable. For each iteration:\n",
    "1. Calculate the IQR of the column\n",
    "2. Calculate the median of the column\n",
    "3. Calculate the outlier threshold (median + 1.5 * IQR)\n",
    "4. Calculate the numer of videos with a count in that column that exceeds the outlier threshold\n",
    "5. Print \"Number of outliers, {column name}: {outlier count}\"\n",
    "\n",
    "```\n",
    "Example:\n",
    "Number of outliers, video_view_count: ___\n",
    "Number of outliers, video_like_count: ___\n",
    "Number of outliers, video_share_count: ___\n",
    "Number of outliers, video_download_count: ___\n",
    "Number of outliers, video_comment_count: ___\n",
    "```"
   ]
  },
  {
   "cell_type": "code",
   "execution_count": 32,
   "metadata": {
    "id": "lBDtA-fjA-2B"
   },
   "outputs": [
    {
     "name": "stdout",
     "output_type": "stream",
     "text": [
      "Number of outliers, video_view_count: 2343\n",
      "Number of outliers, video_like_count: 3468\n",
      "Number of outliers, video_share_count: 3732\n",
      "Number of outliers, video_download_count: 3733\n",
      "Number of outliers, video_comment_count: 3882\n"
     ]
    }
   ],
   "source": [
    "### YOUR CODE HERE ###\n",
    "counts=['video_view_count','video_like_count','video_share_count','video_download_count','video_comment_count']\n",
    "\n",
    "for count in counts:\n",
    "    \n",
    "    q1 = data[count].quantile(0.25)\n",
    "    q3 = data[count].quantile(0.75)\n",
    "    iqr = q3-q1\n",
    "    median = data[count].median()\n",
    "    outlier = median + 1.5*iqr\n",
    "\n",
    "    #calculate the total number of outlier\n",
    "    outlier_count = (data[count] > outlier).sum()\n",
    "    print(f'Number of outliers, {count}:', outlier_count )"
   ]
  },
  {
   "cell_type": "markdown",
   "metadata": {
    "id": "E_jdFb9pBIRT"
   },
   "source": [
    "#### **Scatterplot**"
   ]
  },
  {
   "cell_type": "code",
   "execution_count": 41,
   "metadata": {
    "id": "m70a9DMUBJUA"
   },
   "outputs": [
    {
     "data": {
      "text/plain": [
       "<matplotlib.axes._subplots.AxesSubplot at 0x7f5cc008d310>"
      ]
     },
     "execution_count": 41,
     "metadata": {},
     "output_type": "execute_result"
    },
    {
     "data": {
      "image/png": "[encoded data removed]",
      "text/plain": [
       "<Figure size 360x216 with 1 Axes>"
      ]
     },
     "metadata": {
      "needs_background": "light"
     },
     "output_type": "display_data"
    }
   ],
   "source": [
    "# Create a scatterplot of `video_view_count` versus `video_like_count` according to 'claim_status'\n",
    "### YOUR CODE HERE ###\n",
    "plt.figure(figsize=(5,3))\n",
    "\n",
    "sns.scatterplot(data=data,x='video_view_count',y='video_like_count',hue='claim_status',s=10,alpha=0.3)"
   ]
  },
  {
   "cell_type": "code",
   "execution_count": 48,
   "metadata": {
    "id": "NxyaaJojBRhu"
   },
   "outputs": [
    {
     "data": {
      "text/plain": [
       "<matplotlib.axes._subplots.AxesSubplot at 0x7f5cbbf6e050>"
      ]
     },
     "execution_count": 48,
     "metadata": {},
     "output_type": "execute_result"
    },
    {
     "data": {
      "image/png": "[encoded data removed]",
      "text/plain": [
       "<Figure size 360x216 with 1 Axes>"
      ]
     },
     "metadata": {
      "needs_background": "light"
     },
     "output_type": "display_data"
    }
   ],
   "source": [
    "# Create a scatterplot of ``video_view_count` versus `video_like_count` for opinions only\n",
    "### YOUR CODE HERE ###\n",
    "opinion = data[data['claim_status']=='opinion']\n",
    "\n",
    "plt.figure(figsize=(5,3))\n",
    "sns.scatterplot(data=opinion,x='video_view_count',y='video_like_count',s=10,alpha=0.3)"
   ]
  },
  {
   "cell_type": "markdown",
   "metadata": {
    "id": "z8n8HqJmBe3L"
   },
   "source": [
    "You can do a scatterplot in Tableau Public as well, which can be easier to manipulate and present. If you'd like step by step instructions, you can review the instructions linked in the previous Activity page."
   ]
  },
  {
   "cell_type": "markdown",
   "metadata": {
    "id": "NsvBtco1x8GN"
   },
   "source": [
    "<img src=\"images/Execute.png\" width=\"100\" height=\"100\" align=left>\n",
    "\n",
    "## **PACE: Execute**\n",
    "\n",
    "Consider the questions in your PACE Strategy Document to reflect on the Execute stage."
   ]
  },
  {
   "cell_type": "markdown",
   "metadata": {},
   "source": [
    "Below is the tableau dashboard link of this data visualization.\n",
    "*  https://public.tableau.com/shared/7N7J3GZ8M?:display_count=n&:origin=viz_share_link"
   ]
  },
  {
   "cell_type": "markdown",
   "metadata": {
    "id": "csHAfM-RSO7l"
   },
   "source": [
    "### **Task 5a. Results and evaluation**\n",
    "\n",
    "Having built visualizations in Tableau and in Python, what have you learned about the dataset? What other questions have your visualizations uncovered that you should pursue?\n",
    "\n",
    "***Pro tip:*** Put yourself in your client's perspective, what would they want to know?\n",
    "\n",
    "Use the following code cells to pursue any additional EDA. Also use the space to make sure your visualizations are clean, easily understandable, and accessible.\n",
    "\n",
    "***Ask yourself:*** Did you consider color, contrast, emphasis, and labeling?\n"
   ]
  },
  {
   "cell_type": "markdown",
   "metadata": {
    "id": "U4HeITeOwXfo"
   },
   "source": [
    "### **Task 5b. Conclusion**\n",
    "*Make it professional and presentable*\n",
    "\n",
    "You have visualized the data you need to share with the director now. Remember, the goal of a data visualization is for an audience member to glean the information on the chart in mere seconds.\n",
    "\n",
    "*Questions to ask yourself for reflection:*\n",
    "Why is it important to conduct Exploratory Data Analysis? What other visuals could you create?\n"
   ]
  },
  {
   "cell_type": "markdown",
   "metadata": {
    "id": "8JabFSqwwLrM"
   },
   "source": [
    "You’ve now completed a professional data visualization according to a business need. Well done! Be sure to save your work as a reference for later work in Tableau."
   ]
  },
  {
   "cell_type": "markdown",
   "metadata": {},
   "source": [
    "**Congratulations!** You've completed this lab. However, you may not notice a green check mark next to this item on Coursera's platform. Please continue your progress regardless of the check mark. Just click on the \"save\" icon at the top of this notebook to ensure your work has been logged."
   ]
  }
 ],
 "metadata": {
  "colab": {
   "provenance": [],
   "toc_visible": true
  },
  "kernelspec": {
   "display_name": "Python 3",
   "language": "python",
   "name": "python3"
  },
  "language_info": {
   "codemirror_mode": {
    "name": "ipython",
    "version": 3
   },
   "file_extension": ".py",
   "mimetype": "text/x-python",
   "name": "python",
   "nbconvert_exporter": "python",
   "pygments_lexer": "ipython3",
   "version": "3.7.6"
  }
 },
 "nbformat": 4,
 "nbformat_minor": 1
}
